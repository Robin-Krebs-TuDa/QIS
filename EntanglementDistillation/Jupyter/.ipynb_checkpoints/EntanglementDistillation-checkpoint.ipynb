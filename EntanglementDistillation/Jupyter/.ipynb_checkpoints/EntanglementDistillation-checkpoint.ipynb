{
 "cells": [
  {
   "cell_type": "markdown",
   "id": "dc1d0766",
   "metadata": {},
   "source": [
    "# Entanglement Distillation"
   ]
  },
  {
   "cell_type": "markdown",
   "id": "5c00295f",
   "metadata": {},
   "source": [
    "A sympy version of the Mathematica notebook by  Prabhav Jain, Mariami Gachechiladze, Jan Nöller."
   ]
  },
  {
   "cell_type": "markdown",
   "id": "19e743b7",
   "metadata": {},
   "source": [
    "## Initialization"
   ]
  },
  {
   "cell_type": "code",
   "execution_count": 1,
   "id": "b98ae471",
   "metadata": {},
   "outputs": [],
   "source": [
    "import sympy as sp"
   ]
  },
  {
   "cell_type": "code",
   "execution_count": 2,
   "id": "41d72e76",
   "metadata": {},
   "outputs": [],
   "source": [
    "# Pauli matrices\n",
    "E = sp.Matrix([[1,0],\n",
    "               [0,1]])\n",
    "X = sp.Matrix([[0,1],\n",
    "               [1,0]])\n",
    "Y = sp.Matrix([[0,-sp.I],\n",
    "               [sp.I,0]])\n",
    "Z = sp.Matrix([[1,0],\n",
    "               [0,-1]])\n",
    "\n",
    "# Rotation matrices\n",
    "# type greek letters as e.g. \\phi, then press tab\n",
    "#ϕ_x,ϕ_y,ϕ_z = sp.symbols(\"ϕ_x,ϕ_y,ϕ_z\")\n",
    "def R_x(ϕ_x):\n",
    "    return sp.exp(sp.I*ϕ_x*X/2).simplify()\n",
    "def R_y(ϕ_y): \n",
    "    return sp.exp(sp.I*ϕ_y*Y/2).simplify()\n",
    "def R_z(ϕ_z): \n",
    "    return sp.exp(sp.I*ϕ_z*Z/2).simplify()\n",
    "\n",
    "U_BellToProd = sp.Matrix([[1,0,1,0],[0,1,0,1],[0,1,0,-1],[1,0,-1,0]])/sp.sqrt(2)\n",
    "U_ProdToBell = U_BellToProd.H  # hermitian adjoint with .H\n",
    "\n",
    "#ρ_1 = sp.MatrixSymbol(\"ρ_1\",4,4)\n",
    "#ρ_2 = sp.MatrixSymbol(\"ρ_2\",4,4)\n",
    "def Fidelity(ρ_1,ρ_2): \n",
    "    return sp.Trace(sp.sqrt(sp.sqrt(ρ_1)*ρ_2*sp.sqrt(ρ_1)))**2"
   ]
  },
  {
   "cell_type": "code",
   "execution_count": 3,
   "id": "31b83a71",
   "metadata": {},
   "outputs": [
    {
     "data": {
      "text/latex": [
       "$\\displaystyle \\left[\\begin{matrix}e^{\\frac{i θ}{2}} & 0\\\\0 & e^{- \\frac{i θ}{2}}\\end{matrix}\\right]$"
      ],
      "text/plain": [
       "Matrix([\n",
       "[exp(I*θ/2),           0],\n",
       "[         0, exp(-I*θ/2)]])"
      ]
     },
     "execution_count": 3,
     "metadata": {},
     "output_type": "execute_result"
    }
   ],
   "source": [
    "# sympy allows latex style printing \n",
    "θ = sp.symbols(\"θ\")\n",
    "R_z(θ).simplify()"
   ]
  },
  {
   "cell_type": "markdown",
   "id": "8eb5a10b",
   "metadata": {},
   "source": [
    "## Entanglement Distillation Protocol"
   ]
  },
  {
   "cell_type": "markdown",
   "id": "29504b26",
   "metadata": {},
   "source": [
    "We will switch between the Bell basis and the product basis several times during the upcoming protocol.\n",
    "\n",
    "Consider e.g. the Bell state $|{\\phi_+}\\rangle$:"
   ]
  },
  {
   "cell_type": "code",
   "execution_count": 4,
   "id": "e967587f",
   "metadata": {},
   "outputs": [
    {
     "data": {
      "text/latex": [
       "$\\displaystyle \\left[\\begin{matrix}\\frac{1}{2} & 0 & 0 & \\frac{1}{2}\\\\0 & 0 & 0 & 0\\\\0 & 0 & 0 & 0\\\\\\frac{1}{2} & 0 & 0 & \\frac{1}{2}\\end{matrix}\\right]$"
      ],
      "text/plain": [
       "Matrix([\n",
       "[1/2, 0, 0, 1/2],\n",
       "[  0, 0, 0,   0],\n",
       "[  0, 0, 0,   0],\n",
       "[1/2, 0, 0, 1/2]])"
      ]
     },
     "execution_count": 4,
     "metadata": {},
     "output_type": "execute_result"
    }
   ],
   "source": [
    "ϕ_00 = U_BellToProd[:,0]  # Bell state (in product basis) can be read \n",
    "                          # out of basis change matrix\n",
    "ρ_Bell_pb = ϕ_00*ϕ_00.H   # take outer product to obtain corresponding operator\n",
    "ρ_Bell_pb"
   ]
  },
  {
   "cell_type": "code",
   "execution_count": 5,
   "id": "d30defe0",
   "metadata": {},
   "outputs": [
    {
     "data": {
      "text/latex": [
       "$\\displaystyle \\left[\\begin{matrix}1 & 0 & 0 & 0\\\\0 & 0 & 0 & 0\\\\0 & 0 & 0 & 0\\\\0 & 0 & 0 & 0\\end{matrix}\\right]$"
      ],
      "text/plain": [
       "Matrix([\n",
       "[1, 0, 0, 0],\n",
       "[0, 0, 0, 0],\n",
       "[0, 0, 0, 0],\n",
       "[0, 0, 0, 0]])"
      ]
     },
     "execution_count": 5,
     "metadata": {},
     "output_type": "execute_result"
    }
   ],
   "source": [
    "# Basis change using the unitary basis change matrices\n",
    "ρ_bb = U_ProdToBell*ρ_Bell_pb*U_ProdToBell.H\n",
    "ρ_bb"
   ]
  },
  {
   "cell_type": "markdown",
   "id": "81a8b266",
   "metadata": {},
   "source": [
    "Unitaries act by \"sandwiching\" around operator. $\\rho$ in the Bell basis is diagonal and rank 1."
   ]
  },
  {
   "cell_type": "code",
   "execution_count": 6,
   "id": "ccdf9d4c",
   "metadata": {},
   "outputs": [],
   "source": [
    "### Step 1: Choosing an initial state"
   ]
  },
  {
   "cell_type": "code",
   "execution_count": 7,
   "id": "0006c713",
   "metadata": {},
   "outputs": [
    {
     "data": {
      "text/latex": [
       "$\\displaystyle \\left[\\begin{matrix}0 & 0 & 0 & 0\\\\0 & \\frac{1}{3} & - \\frac{1}{4} & 0\\\\0 & - \\frac{1}{4} & \\frac{2}{3} & 0\\\\0 & 0 & 0 & 0\\end{matrix}\\right]$"
      ],
      "text/plain": [
       "Matrix([\n",
       "[0,    0,    0, 0],\n",
       "[0,  1/3, -1/4, 0],\n",
       "[0, -1/4,  2/3, 0],\n",
       "[0,    0,    0, 0]])"
      ]
     },
     "execution_count": 7,
     "metadata": {},
     "output_type": "execute_result"
    }
   ],
   "source": [
    "# singlet bell state\n",
    "ρ_Singlet = 1/2*sp.Matrix([[0, 0,  0, 0], \n",
    "                           [0, 1, -1, 0], \n",
    "                           [0, -1, 1, 0], \n",
    "                           [0, 0,  0, 0]])\n",
    "\n",
    "# initial state\n",
    "ρ_1 = sp.Matrix(\n",
    "          [[0,    0,    0, 0], \n",
    "           [0,  sp.Rational(1,3), -sp.Rational(1,4), 0], \n",
    "           [0, -sp.Rational(1,4),  sp.Rational(2,3), 0],\n",
    "           [0,    0,    0, 0]]\n",
    ")\n",
    "\n",
    "ρ_1"
   ]
  },
  {
   "cell_type": "code",
   "execution_count": 8,
   "id": "61728b95",
   "metadata": {},
   "outputs": [
    {
     "data": {
      "text/latex": [
       "$\\displaystyle 0.75$"
      ],
      "text/plain": [
       "0.750000000000000"
      ]
     },
     "execution_count": 8,
     "metadata": {},
     "output_type": "execute_result"
    }
   ],
   "source": [
    "# Compute the fidelity\n",
    "Fidelity(ρ_Singlet,ρ_1).simplify()"
   ]
  },
  {
   "cell_type": "markdown",
   "id": "9dfcb09d",
   "metadata": {},
   "source": [
    "Greater than 1/2 $\\implies$ Can be distilled by our protocol"
   ]
  },
  {
   "cell_type": "markdown",
   "id": "2a0486d7",
   "metadata": {},
   "source": [
    "### Diagonalizing the state"
   ]
  },
  {
   "cell_type": "markdown",
   "id": "6f403e90",
   "metadata": {},
   "source": [
    "First, consider a general density matrix"
   ]
  },
  {
   "cell_type": "code",
   "execution_count": 9,
   "id": "8f085bf7",
   "metadata": {},
   "outputs": [
    {
     "data": {
      "text/latex": [
       "$\\displaystyle \\left[\\begin{array}{cccc}ρ_{0, 0} & ρ_{0, 1} & ρ_{0, 2} & ρ_{0, 3}\\\\ρ_{1, 0} & ρ_{1, 1} & ρ_{1, 2} & ρ_{1, 3}\\\\ρ_{2, 0} & ρ_{2, 1} & ρ_{2, 2} & ρ_{2, 3}\\\\ρ_{3, 0} & ρ_{3, 1} & ρ_{3, 2} & ρ_{3, 3}\\end{array}\\right]$"
      ],
      "text/plain": [
       "Matrix([\n",
       "[ρ[0, 0], ρ[0, 1], ρ[0, 2], ρ[0, 3]],\n",
       "[ρ[1, 0], ρ[1, 1], ρ[1, 2], ρ[1, 3]],\n",
       "[ρ[2, 0], ρ[2, 1], ρ[2, 2], ρ[2, 3]],\n",
       "[ρ[3, 0], ρ[3, 1], ρ[3, 2], ρ[3, 3]]])"
      ]
     },
     "execution_count": 9,
     "metadata": {},
     "output_type": "execute_result"
    }
   ],
   "source": [
    "ρ = sp.MatrixSymbol(\"ρ\",4,4)\n",
    "sp.Matrix(ρ)"
   ]
  },
  {
   "cell_type": "markdown",
   "id": "a6a25dc5",
   "metadata": {},
   "source": [
    "Now act on both subsystems with the same randomly chosen Pauli operator,\n",
    "e.g. $X\\otimes X$.  \n",
    "Recall that identity also is a Pauli operator.  "
   ]
  },
  {
   "cell_type": "code",
   "execution_count": 10,
   "id": "691bb4e9",
   "metadata": {},
   "outputs": [
    {
     "data": {
      "text/latex": [
       "$\\displaystyle \\left[\\begin{matrix}\\frac{ρ_{0, 0}}{2} + \\frac{ρ_{3, 3}}{2} & 0 & 0 & \\frac{ρ_{0, 3}}{2} + \\frac{ρ_{3, 0}}{2}\\\\0 & \\frac{ρ_{1, 1}}{2} + \\frac{ρ_{2, 2}}{2} & \\frac{ρ_{1, 2}}{2} + \\frac{ρ_{2, 1}}{2} & 0\\\\0 & \\frac{ρ_{1, 2}}{2} + \\frac{ρ_{2, 1}}{2} & \\frac{ρ_{1, 1}}{2} + \\frac{ρ_{2, 2}}{2} & 0\\\\\\frac{ρ_{0, 3}}{2} + \\frac{ρ_{3, 0}}{2} & 0 & 0 & \\frac{ρ_{0, 0}}{2} + \\frac{ρ_{3, 3}}{2}\\end{matrix}\\right]$"
      ],
      "text/plain": [
       "Matrix([\n",
       "[ρ[0, 0]/2 + ρ[3, 3]/2,                     0,                     0, ρ[0, 3]/2 + ρ[3, 0]/2],\n",
       "[                    0, ρ[1, 1]/2 + ρ[2, 2]/2, ρ[1, 2]/2 + ρ[2, 1]/2,                     0],\n",
       "[                    0, ρ[1, 2]/2 + ρ[2, 1]/2, ρ[1, 1]/2 + ρ[2, 2]/2,                     0],\n",
       "[ρ[0, 3]/2 + ρ[3, 0]/2,                     0,                     0, ρ[0, 0]/2 + ρ[3, 3]/2]])"
      ]
     },
     "execution_count": 10,
     "metadata": {},
     "output_type": "execute_result"
    }
   ],
   "source": [
    "from sympy.physics.quantum.tensorproduct import TensorProduct,matrix_tensor_product\n",
    "XX = TensorProduct(X,X)\n",
    "YY = TensorProduct(Y,Y)\n",
    "ZZ = TensorProduct(Z,Z)\n",
    "ρ_new = sp.Matrix(\n",
    "    (ρ + XX*ρ*XX + YY*ρ*YY + ZZ*ρ*ZZ)/4 )\n",
    "sp.Matrix(ρ_new)"
   ]
  },
  {
   "cell_type": "markdown",
   "id": "02839d58",
   "metadata": {},
   "source": [
    "The resulting matrix looks slightly suspicious.  \n",
    "Maybe it is even simpler in another basis ..."
   ]
  },
  {
   "cell_type": "code",
   "execution_count": 11,
   "id": "25dfe532",
   "metadata": {},
   "outputs": [
    {
     "data": {
      "text/latex": [
       "$\\displaystyle \\left[\\begin{matrix}\\frac{ρ_{0, 0}}{2} + \\frac{ρ_{0, 3}}{2} + \\frac{ρ_{3, 0}}{2} + \\frac{ρ_{3, 3}}{2} & 0 & 0 & 0\\\\0 & \\frac{ρ_{1, 1}}{2} + \\frac{ρ_{1, 2}}{2} + \\frac{ρ_{2, 1}}{2} + \\frac{ρ_{2, 2}}{2} & 0 & 0\\\\0 & 0 & \\frac{ρ_{0, 0}}{2} - \\frac{ρ_{0, 3}}{2} - \\frac{ρ_{3, 0}}{2} + \\frac{ρ_{3, 3}}{2} & 0\\\\0 & 0 & 0 & \\frac{ρ_{1, 1}}{2} - \\frac{ρ_{1, 2}}{2} - \\frac{ρ_{2, 1}}{2} + \\frac{ρ_{2, 2}}{2}\\end{matrix}\\right]$"
      ],
      "text/plain": [
       "Matrix([\n",
       "[ρ[0, 0]/2 + ρ[0, 3]/2 + ρ[3, 0]/2 + ρ[3, 3]/2,                                             0,                                             0,                                             0],\n",
       "[                                            0, ρ[1, 1]/2 + ρ[1, 2]/2 + ρ[2, 1]/2 + ρ[2, 2]/2,                                             0,                                             0],\n",
       "[                                            0,                                             0, ρ[0, 0]/2 - ρ[0, 3]/2 - ρ[3, 0]/2 + ρ[3, 3]/2,                                             0],\n",
       "[                                            0,                                             0,                                             0, ρ[1, 1]/2 - ρ[1, 2]/2 - ρ[2, 1]/2 + ρ[2, 2]/2]])"
      ]
     },
     "execution_count": 11,
     "metadata": {},
     "output_type": "execute_result"
    }
   ],
   "source": [
    "ρ_new_bb = U_ProdToBell*ρ_new*U_ProdToBell.H\n",
    "sp.simplify(sp.Matrix(ρ_new_bb))"
   ]
  },
  {
   "cell_type": "markdown",
   "id": "56f7926c",
   "metadata": {},
   "source": [
    "Indeed, in the Bell basis the matrix is diagonal."
   ]
  },
  {
   "cell_type": "markdown",
   "id": "1ab84fdb",
   "metadata": {},
   "source": [
    "Randomly choose one of three rotations (by 90°), apply it to ρ_new bilaterally:"
   ]
  },
  {
   "cell_type": "code",
   "execution_count": 12,
   "id": "d4dfe419",
   "metadata": {},
   "outputs": [
    {
     "data": {
      "text/latex": [
       "$\\displaystyle \\left[\\begin{matrix}\\frac{ρ_{0, 0}}{3} + \\frac{ρ_{1, 1}}{6} + \\frac{ρ_{1, 2}}{6} + \\frac{ρ_{2, 1}}{6} + \\frac{ρ_{2, 2}}{6} + \\frac{ρ_{3, 3}}{3} & 0 & 0 & 0\\\\0 & \\frac{ρ_{0, 0}}{6} + \\frac{ρ_{1, 1}}{3} - \\frac{ρ_{1, 2}}{6} - \\frac{ρ_{2, 1}}{6} + \\frac{ρ_{2, 2}}{3} + \\frac{ρ_{3, 3}}{6} & \\frac{ρ_{0, 0}}{6} - \\frac{ρ_{1, 1}}{6} + \\frac{ρ_{1, 2}}{3} + \\frac{ρ_{2, 1}}{3} - \\frac{ρ_{2, 2}}{6} + \\frac{ρ_{3, 3}}{6} & 0\\\\0 & \\frac{ρ_{0, 0}}{6} - \\frac{ρ_{1, 1}}{6} + \\frac{ρ_{1, 2}}{3} + \\frac{ρ_{2, 1}}{3} - \\frac{ρ_{2, 2}}{6} + \\frac{ρ_{3, 3}}{6} & \\frac{ρ_{0, 0}}{6} + \\frac{ρ_{1, 1}}{3} - \\frac{ρ_{1, 2}}{6} - \\frac{ρ_{2, 1}}{6} + \\frac{ρ_{2, 2}}{3} + \\frac{ρ_{3, 3}}{6} & 0\\\\0 & 0 & 0 & \\frac{ρ_{0, 0}}{3} + \\frac{ρ_{1, 1}}{6} + \\frac{ρ_{1, 2}}{6} + \\frac{ρ_{2, 1}}{6} + \\frac{ρ_{2, 2}}{6} + \\frac{ρ_{3, 3}}{3}\\end{matrix}\\right]$"
      ],
      "text/plain": [
       "Matrix([\n",
       "[ρ[0, 0]/3 + ρ[1, 1]/6 + ρ[1, 2]/6 + ρ[2, 1]/6 + ρ[2, 2]/6 + ρ[3, 3]/3,                                                                     0,                                                                     0,                                                                     0],\n",
       "[                                                                    0, ρ[0, 0]/6 + ρ[1, 1]/3 - ρ[1, 2]/6 - ρ[2, 1]/6 + ρ[2, 2]/3 + ρ[3, 3]/6, ρ[0, 0]/6 - ρ[1, 1]/6 + ρ[1, 2]/3 + ρ[2, 1]/3 - ρ[2, 2]/6 + ρ[3, 3]/6,                                                                     0],\n",
       "[                                                                    0, ρ[0, 0]/6 - ρ[1, 1]/6 + ρ[1, 2]/3 + ρ[2, 1]/3 - ρ[2, 2]/6 + ρ[3, 3]/6, ρ[0, 0]/6 + ρ[1, 1]/3 - ρ[1, 2]/6 - ρ[2, 1]/6 + ρ[2, 2]/3 + ρ[3, 3]/6,                                                                     0],\n",
       "[                                                                    0,                                                                     0,                                                                     0, ρ[0, 0]/3 + ρ[1, 1]/6 + ρ[1, 2]/6 + ρ[2, 1]/6 + ρ[2, 2]/6 + ρ[3, 3]/3]])"
      ]
     },
     "execution_count": 12,
     "metadata": {},
     "output_type": "execute_result"
    }
   ],
   "source": [
    "φ = sp.pi/2\n",
    "\n",
    "R_XX = matrix_tensor_product(R_x(φ),R_x(φ))\n",
    "R_YY = matrix_tensor_product(R_y(φ),R_y(φ))\n",
    "R_ZZ = matrix_tensor_product(R_z(φ),R_z(φ))\n",
    "#ρ_new = sp.Matrix(ρ_new)\n",
    "ρ_new2 = (R_XX*ρ_new*R_XX.H + R_YY*ρ_new*R_YY.H + R_ZZ*ρ_new*R_ZZ.H)/3\n",
    "sp.simplify(sp.Matrix(ρ_new2))"
   ]
  },
  {
   "cell_type": "code",
   "execution_count": 13,
   "id": "3171cfc7",
   "metadata": {},
   "outputs": [
    {
     "data": {
      "text/latex": [
       "$\\displaystyle \\left[\\begin{matrix}\\frac{ρ_{0, 0}}{3} + \\frac{ρ_{1, 1}}{6} + \\frac{ρ_{1, 2}}{6} + \\frac{ρ_{2, 1}}{6} + \\frac{ρ_{2, 2}}{6} + \\frac{ρ_{3, 3}}{3} & 0 & 0 & 0\\\\0 & \\frac{ρ_{0, 0}}{3} + \\frac{ρ_{1, 1}}{6} + \\frac{ρ_{1, 2}}{6} + \\frac{ρ_{2, 1}}{6} + \\frac{ρ_{2, 2}}{6} + \\frac{ρ_{3, 3}}{3} & 0 & 0\\\\0 & 0 & \\frac{ρ_{0, 0}}{3} + \\frac{ρ_{1, 1}}{6} + \\frac{ρ_{1, 2}}{6} + \\frac{ρ_{2, 1}}{6} + \\frac{ρ_{2, 2}}{6} + \\frac{ρ_{3, 3}}{3} & 0\\\\0 & 0 & 0 & \\frac{ρ_{1, 1}}{2} - \\frac{ρ_{1, 2}}{2} - \\frac{ρ_{2, 1}}{2} + \\frac{ρ_{2, 2}}{2}\\end{matrix}\\right]$"
      ],
      "text/plain": [
       "Matrix([\n",
       "[ρ[0, 0]/3 + ρ[1, 1]/6 + ρ[1, 2]/6 + ρ[2, 1]/6 + ρ[2, 2]/6 + ρ[3, 3]/3,                                                                     0,                                                                     0,                                             0],\n",
       "[                                                                    0, ρ[0, 0]/3 + ρ[1, 1]/6 + ρ[1, 2]/6 + ρ[2, 1]/6 + ρ[2, 2]/6 + ρ[3, 3]/3,                                                                     0,                                             0],\n",
       "[                                                                    0,                                                                     0, ρ[0, 0]/3 + ρ[1, 1]/6 + ρ[1, 2]/6 + ρ[2, 1]/6 + ρ[2, 2]/6 + ρ[3, 3]/3,                                             0],\n",
       "[                                                                    0,                                                                     0,                                                                     0, ρ[1, 1]/2 - ρ[1, 2]/2 - ρ[2, 1]/2 + ρ[2, 2]/2]])"
      ]
     },
     "execution_count": 13,
     "metadata": {},
     "output_type": "execute_result"
    }
   ],
   "source": [
    "# in Bell basis\n",
    "ρ_new2_bb = U_ProdToBell*ρ_new2*U_ProdToBell.H\n",
    "sp.simplify(sp.Matrix(ρ_new2_bb))"
   ]
  },
  {
   "cell_type": "markdown",
   "id": "078e1967",
   "metadata": {},
   "source": [
    "Now, determine $\\mathrm{tr}(\\rho)$"
   ]
  },
  {
   "cell_type": "code",
   "execution_count": 14,
   "id": "1dd97c42",
   "metadata": {},
   "outputs": [
    {
     "data": {
      "text/latex": [
       "$\\displaystyle ρ_{0, 0} + ρ_{1, 1} + ρ_{2, 2} + ρ_{3, 3}$"
      ],
      "text/plain": [
       "ρ[0, 0] + ρ[1, 1] + ρ[2, 2] + ρ[3, 3]"
      ]
     },
     "execution_count": 14,
     "metadata": {},
     "output_type": "execute_result"
    }
   ],
   "source": [
    "sp.simplify(sp.trace(sp.Matrix(ρ_new2_bb)))"
   ]
  },
  {
   "cell_type": "code",
   "execution_count": 15,
   "id": "fea72046",
   "metadata": {},
   "outputs": [
    {
     "data": {
      "text/latex": [
       "$\\displaystyle 0.5 ρ_{1, 1} - 0.5 ρ_{1, 2} - 0.5 ρ_{2, 1} + 0.5 ρ_{2, 2}$"
      ],
      "text/plain": [
       "0.5*ρ[1, 1] - 0.5*ρ[1, 2] - 0.5*ρ[2, 1] + 0.5*ρ[2, 2]"
      ]
     },
     "execution_count": 15,
     "metadata": {},
     "output_type": "execute_result"
    }
   ],
   "source": [
    "# Also fidelity = \n",
    "sp.simplify(Fidelity(sp.Matrix(ρ_new2),ρ_Singlet))"
   ]
  },
  {
   "cell_type": "markdown",
   "id": "750dda44",
   "metadata": {},
   "source": [
    "enforce $\\mathrm{tr}(\\rho)=1$ by substituting $\\rho_{00} \\mapsto 1-\\rho_{11}-\\rho_{22}-\\rho_{33}$  \n",
    "Define variable $F$ and substitute:\n",
    "$\\rho_{11} \\mapsto 2F+\\rho_{12}+\\rho_{21}-\\rho_{22}$"
   ]
  },
  {
   "cell_type": "code",
   "execution_count": 16,
   "id": "471767c8",
   "metadata": {},
   "outputs": [
    {
     "data": {
      "text/latex": [
       "$\\displaystyle \\left[\\begin{matrix}\\frac{1}{3} - \\frac{F}{3} & 0 & 0 & 0\\\\0 & \\frac{1}{3} - \\frac{F}{3} & 0 & 0\\\\0 & 0 & \\frac{1}{3} - \\frac{F}{3} & 0\\\\0 & 0 & 0 & F\\end{matrix}\\right]$"
      ],
      "text/plain": [
       "Matrix([\n",
       "[1/3 - F/3,         0,         0, 0],\n",
       "[        0, 1/3 - F/3,         0, 0],\n",
       "[        0,         0, 1/3 - F/3, 0],\n",
       "[        0,         0,         0, F]])"
      ]
     },
     "execution_count": 16,
     "metadata": {},
     "output_type": "execute_result"
    }
   ],
   "source": [
    "F = sp.symbols(\"F\")\n",
    "ρ_new3_bb = sp.simplify(sp.Matrix(ρ_new2_bb).subs(ρ[0,0],1-ρ[1,1]-ρ[2,2]-ρ[3,3]))\n",
    "ρ_new3_bb = sp.simplify(ρ_new3_bb.subs(ρ[1,1],2*F +ρ[1,2]+ρ[2,1]-ρ[2,2]))\n",
    "sp.simplify(sp.Matrix(ρ_new3_bb))"
   ]
  },
  {
   "cell_type": "markdown",
   "id": "64f73c85",
   "metadata": {},
   "source": [
    "The state above is the Werner state, and forms the basis for the rest of the distillation protocol"
   ]
  },
  {
   "cell_type": "code",
   "execution_count": 17,
   "id": "86abc216",
   "metadata": {},
   "outputs": [
    {
     "data": {
      "text/latex": [
       "$\\displaystyle \\left[\\begin{matrix}\\frac{1}{3} - \\frac{F}{3} & 0 & 0 & 0\\\\0 & \\frac{F}{3} + \\frac{1}{6} & \\frac{1}{6} - \\frac{2 F}{3} & 0\\\\0 & \\frac{1}{6} - \\frac{2 F}{3} & \\frac{F}{3} + \\frac{1}{6} & 0\\\\0 & 0 & 0 & \\frac{1}{3} - \\frac{F}{3}\\end{matrix}\\right]$"
      ],
      "text/plain": [
       "Matrix([\n",
       "[1/3 - F/3,           0,           0,         0],\n",
       "[        0,   F/3 + 1/6, 1/6 - 2*F/3,         0],\n",
       "[        0, 1/6 - 2*F/3,   F/3 + 1/6,         0],\n",
       "[        0,           0,           0, 1/3 - F/3]])"
      ]
     },
     "execution_count": 17,
     "metadata": {},
     "output_type": "execute_result"
    }
   ],
   "source": [
    "ρ_W_bb = sp.simplify(sp.Matrix(ρ_new3_bb))\n",
    "ρ_W_pb = U_BellToProd*ρ_W_bb*U_BellToProd.H\n",
    "ρ_W_pb"
   ]
  },
  {
   "cell_type": "markdown",
   "id": "247b3a9d",
   "metadata": {},
   "source": [
    "We apply a $Y$-gate on only one of the subsystems, which causes $|\\psi_-\\rangle$ and $|\\phi_+\\rangle$ to switch:"
   ]
  },
  {
   "cell_type": "code",
   "execution_count": 18,
   "id": "9ccec709",
   "metadata": {},
   "outputs": [
    {
     "data": {
      "text/latex": [
       "$\\displaystyle \\left[\\begin{matrix}\\frac{F}{3} + \\frac{1}{6} & 0 & 0 & \\frac{2 F}{3} - \\frac{1}{6}\\\\0 & \\frac{1}{3} - \\frac{F}{3} & 0 & 0\\\\0 & 0 & \\frac{1}{3} - \\frac{F}{3} & 0\\\\\\frac{2 F}{3} - \\frac{1}{6} & 0 & 0 & \\frac{F}{3} + \\frac{1}{6}\\end{matrix}\\right]$"
      ],
      "text/plain": [
       "Matrix([\n",
       "[  F/3 + 1/6,         0,         0, 2*F/3 - 1/6],\n",
       "[          0, 1/3 - F/3,         0,           0],\n",
       "[          0,         0, 1/3 - F/3,           0],\n",
       "[2*F/3 - 1/6,         0,         0,   F/3 + 1/6]])"
      ]
     },
     "execution_count": 18,
     "metadata": {},
     "output_type": "execute_result"
    }
   ],
   "source": [
    "ρ_W2_pb = matrix_tensor_product(E,Y)*ρ_W_pb*matrix_tensor_product(E,Y)\n",
    "ρ_W2_pb"
   ]
  },
  {
   "cell_type": "markdown",
   "id": "165b17d0",
   "metadata": {},
   "source": [
    "The new state has now a high fidelity to $|\\phi_+\\rangle$"
   ]
  },
  {
   "cell_type": "code",
   "execution_count": 19,
   "id": "9e1d7c11",
   "metadata": {},
   "outputs": [
    {
     "data": {
      "text/latex": [
       "$\\displaystyle F$"
      ],
      "text/plain": [
       "F"
      ]
     },
     "execution_count": 19,
     "metadata": {},
     "output_type": "execute_result"
    }
   ],
   "source": [
    "sp.simplify(Fidelity(ρ_Bell_pb,ρ_W2_pb))"
   ]
  },
  {
   "cell_type": "markdown",
   "id": "7db70c81",
   "metadata": {},
   "source": [
    "Now consider the unitary $U_{ij} = |0\\rangle\\langle 0 |\\otimes X_j+|1\\rangle\\langle 1 |\\otimes \\mathbb{1}_j$"
   ]
  },
  {
   "cell_type": "markdown",
   "id": "b18a7693",
   "metadata": {},
   "source": [
    "Alice and Bob apply this unitary on two copies of their state within their \n",
    "local subsystem. It is here formally easier to describe their joint application\n",
    "of the unitary, than to construct it from the individual unitaries.\n",
    "\n",
    "\n",
    "$$\\rho'_{W,12} = (U_{13}\\otimes U_{24})(\\rho_{W,12}\\otimes \\rho_{W,34}) (U_{13}\\otimes U_{24})$$"
   ]
  },
  {
   "cell_type": "code",
   "execution_count": 20,
   "id": "1712678d",
   "metadata": {},
   "outputs": [],
   "source": [
    "P_0 = sp.Matrix([[1,0],[0,0]])\n",
    "P_1 = sp.Matrix([[0,0],[0,1]])\n",
    "U = (matrix_tensor_product(P_0,E,X,E)+matrix_tensor_product(P_1,E,E,E))*(matrix_tensor_product(E,P_0,E,X)+matrix_tensor_product(E,P_1,E,E))"
   ]
  },
  {
   "cell_type": "code",
   "execution_count": 21,
   "id": "295b9785",
   "metadata": {},
   "outputs": [],
   "source": [
    "G = sp.symbols(\"G\")\n",
    "ρ_W2_pb_other = ρ_W2_pb.subs(F,G) # Due to an issue with tensor products\n",
    "# of symbolic matrices, they need to be given different parameters that \n",
    "# are identified later\n",
    "ρ_W2_2copies_pb = matrix_tensor_product(sp.Matrix(ρ_W2_pb),sp.Matrix(ρ_W2_pb_other)) # here something is off\n",
    "ρ_W2_2copies_pb = ρ_W2_2copies_pb.subs(G,F)\n",
    "ρ_W3_2copies_pb = sp.simplify(U*ρ_W2_2copies_pb*U.H)\n"
   ]
  },
  {
   "cell_type": "markdown",
   "id": "9bd5b150",
   "metadata": {},
   "source": [
    "### Making measurements"
   ]
  },
  {
   "cell_type": "markdown",
   "id": "0f206efb",
   "metadata": {},
   "source": [
    "Alice and Bob take two of their subsystems, given by indices 3 and 4,\n",
    "and measure in the $Z$-basis. If their measurement outcomes are not equal, \n",
    "they discard their state and start over with a new pair of states, otherwise, for equal measurement outcomes, they can proceed:"
   ]
  },
  {
   "cell_type": "code",
   "execution_count": 22,
   "id": "7b3c88ea",
   "metadata": {},
   "outputs": [],
   "source": [
    "# Definining measurement operators\n",
    "P_00 = matrix_tensor_product(E,E,P_0,P_0)\n",
    "P_11 = matrix_tensor_product(E,E,P_1,P_1)"
   ]
  },
  {
   "cell_type": "code",
   "execution_count": 23,
   "id": "72c03f87",
   "metadata": {},
   "outputs": [
    {
     "data": {
      "text/latex": [
       "$\\displaystyle \\frac{8 F^{2}}{9} - \\frac{4 F}{9} + \\frac{5}{9}$"
      ],
      "text/plain": [
       "8*F**2/9 - 4*F/9 + 5/9"
      ]
     },
     "execution_count": 23,
     "metadata": {},
     "output_type": "execute_result"
    }
   ],
   "source": [
    "# Probability of success (equal outcomes)\n",
    "p = sp.simplify(sp.trace(P_00*ρ_W3_2copies_pb)+sp.trace(P_11*ρ_W3_2copies_pb))\n",
    "p"
   ]
  },
  {
   "cell_type": "code",
   "execution_count": 24,
   "id": "d74860d0",
   "metadata": {},
   "outputs": [
    {
     "data": {
      "text/latex": [
       "$\\displaystyle \\left[\\begin{array}{cccccccccccccccc}\\frac{4 F^{2} + 4 F + 1}{2 \\cdot \\left(8 F^{2} - 4 F + 5\\right)} & 0 & 0 & 0 & 0 & 0 & 0 & 0 & 0 & 0 & 0 & 0 & \\frac{16 F^{2} - 8 F + 1}{2 \\cdot \\left(8 F^{2} - 4 F + 5\\right)} & 0 & 0 & 0\\\\0 & 0 & 0 & 0 & 0 & 0 & 0 & 0 & 0 & 0 & 0 & 0 & 0 & 0 & 0 & 0\\\\0 & 0 & 0 & 0 & 0 & 0 & 0 & 0 & 0 & 0 & 0 & 0 & 0 & 0 & 0 & 0\\\\0 & 0 & 0 & 0 & 0 & 0 & 0 & 0 & 0 & 0 & 0 & 0 & 0 & 0 & 0 & 0\\\\0 & 0 & 0 & 0 & \\frac{2 \\left(F - 1\\right)^{2}}{4 \\left(F - 1\\right)^{2} + \\left(2 F + 1\\right)^{2}} & 0 & 0 & 0 & 0 & 0 & 0 & 0 & 0 & 0 & 0 & 0\\\\0 & 0 & 0 & 0 & 0 & 0 & 0 & 0 & 0 & 0 & 0 & 0 & 0 & 0 & 0 & 0\\\\0 & 0 & 0 & 0 & 0 & 0 & 0 & 0 & 0 & 0 & 0 & 0 & 0 & 0 & 0 & 0\\\\0 & 0 & 0 & 0 & 0 & 0 & 0 & 0 & 0 & 0 & 0 & 0 & 0 & 0 & 0 & 0\\\\0 & 0 & 0 & 0 & 0 & 0 & 0 & 0 & \\frac{2 \\left(F - 1\\right)^{2}}{4 \\left(F - 1\\right)^{2} + \\left(2 F + 1\\right)^{2}} & 0 & 0 & 0 & 0 & 0 & 0 & 0\\\\0 & 0 & 0 & 0 & 0 & 0 & 0 & 0 & 0 & 0 & 0 & 0 & 0 & 0 & 0 & 0\\\\0 & 0 & 0 & 0 & 0 & 0 & 0 & 0 & 0 & 0 & 0 & 0 & 0 & 0 & 0 & 0\\\\0 & 0 & 0 & 0 & 0 & 0 & 0 & 0 & 0 & 0 & 0 & 0 & 0 & 0 & 0 & 0\\\\\\frac{16 F^{2} - 8 F + 1}{2 \\cdot \\left(8 F^{2} - 4 F + 5\\right)} & 0 & 0 & 0 & 0 & 0 & 0 & 0 & 0 & 0 & 0 & 0 & \\frac{4 F^{2} + 4 F + 1}{2 \\cdot \\left(8 F^{2} - 4 F + 5\\right)} & 0 & 0 & 0\\\\0 & 0 & 0 & 0 & 0 & 0 & 0 & 0 & 0 & 0 & 0 & 0 & 0 & 0 & 0 & 0\\\\0 & 0 & 0 & 0 & 0 & 0 & 0 & 0 & 0 & 0 & 0 & 0 & 0 & 0 & 0 & 0\\\\0 & 0 & 0 & 0 & 0 & 0 & 0 & 0 & 0 & 0 & 0 & 0 & 0 & 0 & 0 & 0\\end{array}\\right]$"
      ],
      "text/plain": [
       "Matrix([\n",
       "[ (4*F**2 + 4*F + 1)/(2*(8*F**2 - 4*F + 5)), 0, 0, 0,                                          0, 0, 0, 0,                                          0, 0, 0, 0, (16*F**2 - 8*F + 1)/(2*(8*F**2 - 4*F + 5)), 0, 0, 0],\n",
       "[                                         0, 0, 0, 0,                                          0, 0, 0, 0,                                          0, 0, 0, 0,                                          0, 0, 0, 0],\n",
       "[                                         0, 0, 0, 0,                                          0, 0, 0, 0,                                          0, 0, 0, 0,                                          0, 0, 0, 0],\n",
       "[                                         0, 0, 0, 0,                                          0, 0, 0, 0,                                          0, 0, 0, 0,                                          0, 0, 0, 0],\n",
       "[                                         0, 0, 0, 0, 2*(F - 1)**2/(4*(F - 1)**2 + (2*F + 1)**2), 0, 0, 0,                                          0, 0, 0, 0,                                          0, 0, 0, 0],\n",
       "[                                         0, 0, 0, 0,                                          0, 0, 0, 0,                                          0, 0, 0, 0,                                          0, 0, 0, 0],\n",
       "[                                         0, 0, 0, 0,                                          0, 0, 0, 0,                                          0, 0, 0, 0,                                          0, 0, 0, 0],\n",
       "[                                         0, 0, 0, 0,                                          0, 0, 0, 0,                                          0, 0, 0, 0,                                          0, 0, 0, 0],\n",
       "[                                         0, 0, 0, 0,                                          0, 0, 0, 0, 2*(F - 1)**2/(4*(F - 1)**2 + (2*F + 1)**2), 0, 0, 0,                                          0, 0, 0, 0],\n",
       "[                                         0, 0, 0, 0,                                          0, 0, 0, 0,                                          0, 0, 0, 0,                                          0, 0, 0, 0],\n",
       "[                                         0, 0, 0, 0,                                          0, 0, 0, 0,                                          0, 0, 0, 0,                                          0, 0, 0, 0],\n",
       "[                                         0, 0, 0, 0,                                          0, 0, 0, 0,                                          0, 0, 0, 0,                                          0, 0, 0, 0],\n",
       "[(16*F**2 - 8*F + 1)/(2*(8*F**2 - 4*F + 5)), 0, 0, 0,                                          0, 0, 0, 0,                                          0, 0, 0, 0,  (4*F**2 + 4*F + 1)/(2*(8*F**2 - 4*F + 5)), 0, 0, 0],\n",
       "[                                         0, 0, 0, 0,                                          0, 0, 0, 0,                                          0, 0, 0, 0,                                          0, 0, 0, 0],\n",
       "[                                         0, 0, 0, 0,                                          0, 0, 0, 0,                                          0, 0, 0, 0,                                          0, 0, 0, 0],\n",
       "[                                         0, 0, 0, 0,                                          0, 0, 0, 0,                                          0, 0, 0, 0,                                          0, 0, 0, 0]])"
      ]
     },
     "execution_count": 24,
     "metadata": {},
     "output_type": "execute_result"
    }
   ],
   "source": [
    "# Compute the post-measurement state\n",
    "# Assume Alice and Bob have measured 00, for the sake of simplicity\n",
    "ρ_reduced = sp.simplify(\n",
    "    (P_00*ρ_W3_2copies_pb*P_00)/sp.trace(P_00*ρ_W3_2copies_pb*P_00)\n",
    ")\n",
    "ρ_reduced"
   ]
  },
  {
   "cell_type": "markdown",
   "id": "0a8da822",
   "metadata": {},
   "source": [
    "Next, to avoid dealing with partial traces, we actually computed the fidelity with\n",
    "\n",
    "$$|\\phi_+\\rangle\\langle\\phi_+ |_{12}\\otimes| 00 \\rangle\\langle 0 0 |_{34},$$\n",
    "\n",
    "which is fully equivalent, as subsystems 3 and 4 are after the measurement known to be in the state 00, and are to be discarded, while 1 and 2 are kept as copy with improved entanglement.\n"
   ]
  },
  {
   "cell_type": "code",
   "execution_count": 25,
   "id": "8db99d7b",
   "metadata": {},
   "outputs": [
    {
     "data": {
      "text/latex": [
       "$\\displaystyle \\frac{10 F^{2} - 2 F + 1}{8 F^{2} - 4 F + 5}$"
      ],
      "text/plain": [
       "(10*F**2 - 2*F + 1)/(8*F**2 - 4*F + 5)"
      ]
     },
     "execution_count": 25,
     "metadata": {},
     "output_type": "execute_result"
    }
   ],
   "source": [
    "# Computing the fidelity\n",
    "F_new = sp.simplify(Fidelity(ρ_reduced,matrix_tensor_product(ρ_Bell_pb,P_0,P_0)))\n",
    "F_new"
   ]
  },
  {
   "cell_type": "code",
   "execution_count": 28,
   "id": "f5df2a59",
   "metadata": {},
   "outputs": [
    {
     "data": {
      "text/plain": [
       "<matplotlib.lines.Line2D at 0x7f44cdc466d0>"
      ]
     },
     "execution_count": 28,
     "metadata": {},
     "output_type": "execute_result"
    },
    {
     "data": {
      "image/png": "[encoded data removed]",
      "text/plain": [
       "<Figure size 640x480 with 1 Axes>"
      ]
     },
     "metadata": {},
     "output_type": "display_data"
    }
   ],
   "source": [
    "# Plotting the fidelity\n",
    "import matplotlib.pyplot as plt\n",
    "\n",
    "N=100\n",
    "F_grid = [i/N for i in range(N)]\n",
    "F_new_grid = [float(F_new.subs(F,x)) for x in F_grid]\n",
    "\n",
    "plt.plot(F_grid,F_new_grid,color=\"red\")  # Red line shows fidelity after protocol\n",
    "plt.plot(F_grid,F_grid,color=\"black\")    # Old fidelity for comparison in black\n",
    "plt.xlabel(\"$F$\")\n",
    "plt.ylabel(\"$F'$\")\n",
    "plt.axvline(0.5,linestyle=\"--\")          # Region beyond which distillation is effective"
   ]
  },
  {
   "cell_type": "markdown",
   "id": "955fc29e",
   "metadata": {},
   "source": [
    "Of course, to distill anything, the protocol needs to amplify the fidelity with each iteration,\n",
    "which is only the case if the initial $F>\\frac{1}{2}$.  \n",
    "(And in the region around $F=0.25$, but here our protocol only makes the state more mixed, \n",
    "converging toward a maximally mixed state.)  \n",
    "For comparison, we also plot the fidelity after two iterations of the protocol:"
   ]
  },
  {
   "cell_type": "code",
   "execution_count": 27,
   "id": "18498bd2",
   "metadata": {},
   "outputs": [
    {
     "data": {
      "text/plain": [
       "<matplotlib.lines.Line2D at 0x7f44cdc9ab50>"
      ]
     },
     "execution_count": 27,
     "metadata": {},
     "output_type": "execute_result"
    },
    {
     "data": {
      "image/png": "[encoded data removed]",
      "text/plain": [
       "<Figure size 640x480 with 1 Axes>"
      ]
     },
     "metadata": {},
     "output_type": "display_data"
    }
   ],
   "source": [
    "# Plotting the fidelity\n",
    "import matplotlib.pyplot as plt\n",
    "\n",
    "N=100\n",
    "F_grid = [i/N for i in range(N)]\n",
    "F_new_grid = [float(F_new.subs(F,F_new.subs(F,x))) for x in F_grid]\n",
    "\n",
    "plt.plot(F_grid,F_new_grid,color=\"red\")  # Red line shows fidelity after protocol\n",
    "plt.plot(F_grid,F_grid,color=\"black\")    # Old fidelity for comparison in black\n",
    "plt.xlabel(\"$F$\")\n",
    "plt.ylabel(\"$F''$\")\n",
    "plt.axvline(0.5,linestyle=\"--\")          # Region beyond which distillation is effective"
   ]
  },
  {
   "cell_type": "markdown",
   "id": "f08cbbf2",
   "metadata": {},
   "source": [
    "By iterating the protocol a sufficient number of times, initial states with $F>\\frac{1}{2}$ can be made arbitrarily close to the Bell state!"
   ]
  }
 ],
 "metadata": {
  "kernelspec": {
   "display_name": "Python 3 (ipykernel)",
   "language": "python",
   "name": "python3"
  },
  "language_info": {
   "codemirror_mode": {
    "name": "ipython",
    "version": 3
   },
   "file_extension": ".py",
   "mimetype": "text/x-python",
   "name": "python",
   "nbconvert_exporter": "python",
   "pygments_lexer": "ipython3",
   "version": "3.9.12"
  }
 },
 "nbformat": 4,
 "nbformat_minor": 5
}
